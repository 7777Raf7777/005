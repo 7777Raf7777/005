{
  "cells": [
    {
      "cell_type": "code",
      "execution_count": null,
      "metadata": {
        "id": "gTA7rUxSdC6H"
      },
      "outputs": [],
      "source": [
        "import pandas as pd\n",
        "import numpy as np\n",
        "import joblib\n",
        "import xgboost\n",
        "from xgboost import XGBRegressor\n",
        "from sklearn.ensemble import GradientBoostingRegressor\n",
        "from xgboost import XGBRegressor\n",
        "import sklearn \n",
        "from sklearn.pipeline import Pipeline\n",
        "from sklearn.impute import SimpleImputer\n",
        "from sklearn.pipeline import make_pipeline\n",
        "from sklearn.model_selection import GridSearchCV\n",
        "from sklearn.compose import ColumnTransformer\n",
        "from sklearn.model_selection import train_test_split\n",
        "from sklearn.preprocessing import  OneHotEncoder, StandardScaler\n",
        "from sklearn.compose import ColumnTransformer\n",
        "from sklearn.linear_model import Ridge\n",
        "from sklearn.model_selection import cross_val_score, GridSearchCV\n",
        "from sklearn.linear_model import LinearRegression, Ridge, Lasso\n",
        "from sklearn.metrics import r2_score, mean_squared_error"
      ]
    },
    {
      "cell_type": "code",
      "execution_count": null,
      "metadata": {
        "colab": {
          "base_uri": "https://localhost:8080/",
          "height": 270
        },
        "id": "DjRJwIRNdRFP",
        "outputId": "0119c384-54f7-4496-b607-23a6aa777259"
      },
      "outputs": [],
      "source": [
        "data = pd.read_csv(\"get_around_pricing_project.csv\", index_col=0)\n",
        "data.head()"
      ]
    },
    {
      "cell_type": "code",
      "execution_count": null,
      "metadata": {
        "colab": {
          "base_uri": "https://localhost:8080/",
          "height": 1000
        },
        "id": "Evb1jCJCeJyl",
        "outputId": "8393539f-4e0a-45fd-fa21-95b7bcd9eafc"
      },
      "outputs": [],
      "source": [
        "# Basic stats\n",
        "print(\"Number of rows : {}\".format(data.shape[0]))\n",
        "print()\n",
        "\n",
        "print(\"Display of dataset: \")\n",
        "display(data.head())\n",
        "print()\n",
        "\n",
        "print(\"Basics statistics: \")\n",
        "data_desc = data.describe(include='all')\n",
        "display(data_desc)\n",
        "print()\n",
        "\n",
        "print(\"Percentage of missing values: \")\n",
        "display(100*data.isnull().sum()/data.shape[0])"
      ]
    },
    {
      "cell_type": "code",
      "execution_count": null,
      "metadata": {
        "colab": {
          "base_uri": "https://localhost:8080/"
        },
        "id": "TC3adOGzeMRm",
        "outputId": "57853597-1b85-46ea-8edf-5edacdab1c2d"
      },
      "outputs": [],
      "source": [
        "# Separate target variable Y from features X\n",
        "print(\"Separating labels from features...\")\n",
        "target_variable = \"rental_price_per_day\"\n",
        "\n",
        "X = data.drop(target_variable, axis = 1)\n",
        "Y = data.loc[:,target_variable]\n",
        "\n",
        "print(\"...Done.\")\n",
        "print()\n",
        "\n",
        "print('Y : ')\n",
        "print(Y.head())\n",
        "print()\n",
        "print('X :')\n",
        "print(X.head())"
      ]
    },
    {
      "cell_type": "code",
      "execution_count": null,
      "metadata": {
        "id": "GIViqiQBfvYT"
      },
      "outputs": [],
      "source": [
        "# Division du jeu de données entre ensemble d'apprentissage et ensemble de test\n",
        "X_train, X_test, Y_train, Y_test = train_test_split(X, Y, test_size=0.2, random_state=0)"
      ]
    },
    {
      "cell_type": "code",
      "execution_count": null,
      "metadata": {
        "colab": {
          "base_uri": "https://localhost:8080/"
        },
        "id": "aZSzrITLeUQM",
        "outputId": "bf8dfae1-e911-4bac-fa5d-1ea542170d85"
      },
      "outputs": [],
      "source": [
        "# Automatically detect names of numeric/categorical columns\n",
        "numeric_features = []\n",
        "categorical_features = []\n",
        "for i,t in X.dtypes.items():\n",
        "    if ('float' in str(t)) or ('int' in str(t)) :\n",
        "        numeric_features.append(i)\n",
        "    else :\n",
        "        categorical_features.append(i)\n",
        "\n",
        "print('Found numeric features ', numeric_features)\n",
        "print('Found categorical features ', categorical_features)"
      ]
    },
    {
      "cell_type": "code",
      "execution_count": null,
      "metadata": {
        "id": "5TSR8bIci8gt"
      },
      "outputs": [],
      "source": [
        "# Create pipeline for numeric features\n",
        "numeric_transformer = StandardScaler()\n",
        "\n",
        "# Create pipeline for categorical features\n",
        "categorical_transformer = OneHotEncoder(drop='first', handle_unknown='ignore', sparse=False)\n",
        "# drop='first' : permet de supprimer une colonne codée, pour éviter la colinéarité.\n",
        "# handle_unknown='ignore' : permet d'éviter les erreurs si des catégories inconnues apparaissent sur de nouvelles données à étudier (comme la marque ou une nouvelle couleur).\n",
        "\n",
        "\n",
        "## Combine the transformers into a single object / Use ColumnTransformer to make a preprocessor object that describes all the treatments to be done\n",
        "preprocessor = ColumnTransformer(\n",
        "    transformers=[\n",
        "        ('cat', categorical_transformer, categorical_features),\n",
        "        ('num', numeric_transformer, numeric_features)\n",
        "        ])"
      ]
    },
    {
      "cell_type": "code",
      "execution_count": null,
      "metadata": {
        "id": "5jllTNp6ghYK"
      },
      "outputs": [],
      "source": [
        "preprocesseur = ColumnTransformer(transformers=[('num', numeric_transformer, numeric_features),\n",
        "                                                ('cat', categorical_transformer, categorical_features)])"
      ]
    },
    {
      "cell_type": "code",
      "execution_count": null,
      "metadata": {
        "id": "FN3W2ckPeYs4"
      },
      "outputs": [],
      "source": [
        "modele = Pipeline(steps=[(\"Preprocessing\", preprocesseur),\n",
        "                         (\"Regressor\", LinearRegression())\n",
        "                        ])"
      ]
    },
    {
      "cell_type": "code",
      "execution_count": null,
      "metadata": {
        "colab": {
          "base_uri": "https://localhost:8080/"
        },
        "id": "vYKCEuTeg8ul",
        "outputId": "52f7fcf2-6cf1-4fad-99d4-f5640ac956c4"
      },
      "outputs": [],
      "source": [
        "modele.fit(X_train, Y_train)\n",
        "\n",
        "train_pred = modele.predict(X_train)\n",
        "test_pred = modele.predict(X_test)\n",
        "\n",
        "print(\"r2 on train set : \", r2_score(Y_train, train_pred))\n",
        "print(\"r2 on test set : \", r2_score(Y_test, test_pred))"
      ]
    },
    {
      "cell_type": "code",
      "execution_count": null,
      "metadata": {
        "id": "C1dY1Rw1hx-l"
      },
      "outputs": [],
      "source": [
        "model = Pipeline(steps=[\n",
        "        (\"Preprocessing\", preprocessor),\n",
        "        (\"Regressor\",XGBRegressor(learning_rate= 0.1, max_depth= 7, min_child_weight= 7, n_estimators= 170 ))\n",
        "    ])"
      ]
    },
    {
      "cell_type": "code",
      "execution_count": null,
      "metadata": {
        "colab": {
          "base_uri": "https://localhost:8080/"
        },
        "id": "JlO6VxeJjdGM",
        "outputId": "19fc96ec-dcca-43fb-a30b-c0df6187e2e9"
      },
      "outputs": [],
      "source": [
        "model.fit(X_train, Y_train)\n",
        "\n",
        "train_predx = model.predict(X_train)\n",
        "test_predx = model.predict(X_test)\n",
        "\n",
        "print(\"r2 on train set : \", r2_score(Y_train, train_predx))\n",
        "print(\"r2 on test set : \", r2_score(Y_test, test_predx))"
      ]
    },
    {
      "cell_type": "code",
      "execution_count": null,
      "metadata": {
        "colab": {
          "base_uri": "https://localhost:8080/"
        },
        "id": "x6GwHOu5jpWf",
        "outputId": "485092e7-418e-4303-f5c2-aca3a091626d"
      },
      "outputs": [],
      "source": [
        "# dumping model\n",
        "from joblib import dump, load\n",
        "dump(model, 'model.joblib')"
      ]
    }
  ],
  "metadata": {
    "colab": {
      "provenance": []
    },
    "kernelspec": {
      "display_name": "Python 3",
      "name": "python3"
    },
    "language_info": {
      "codemirror_mode": {
        "name": "ipython",
        "version": 3
      },
      "file_extension": ".py",
      "mimetype": "text/x-python",
      "name": "python",
      "nbconvert_exporter": "python",
      "pygments_lexer": "ipython3",
      "version": "3.11.1"
    }
  },
  "nbformat": 4,
  "nbformat_minor": 0
}
